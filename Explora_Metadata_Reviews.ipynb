{
  "nbformat": 4,
  "nbformat_minor": 0,
  "metadata": {
    "colab": {
      "provenance": [],
      "include_colab_link": true
    },
    "kernelspec": {
      "name": "python3",
      "display_name": "Python 3"
    },
    "language_info": {
      "name": "python"
    }
  },
  "cells": [
    {
      "cell_type": "markdown",
      "metadata": {
        "id": "view-in-github",
        "colab_type": "text"
      },
      "source": [
        "<a href=\"https://colab.research.google.com/github/roxrap/Abril2024/blob/main/Explora_Metadata_Reviews.ipynb\" target=\"_parent\"><img src=\"https://colab.research.google.com/assets/colab-badge.svg\" alt=\"Open In Colab\"/></a>"
      ]
    },
    {
      "cell_type": "markdown",
      "source": [
        "Primera lectura de los archivos de las carpetas *metadata-sitios* y *reviews-estados*"
      ],
      "metadata": {
        "id": "Jkm9v0f9ynRi"
      }
    },
    {
      "cell_type": "code",
      "source": [
        "from google.colab import drive\n",
        "drive.mount('/content/drive')"
      ],
      "metadata": {
        "id": "NRYh7d8a74OZ"
      },
      "execution_count": null,
      "outputs": []
    },
    {
      "cell_type": "code",
      "source": [
        "# Dependencias\n",
        "from google.colab import drive\n",
        "import os\n",
        "import json\n",
        "import pandas as pd"
      ],
      "metadata": {
        "id": "i7TgZqGn6Tms"
      },
      "execution_count": null,
      "outputs": []
    },
    {
      "cell_type": "code",
      "source": [
        "print(os.listdir('/content/drive/MyDrive/Google Maps/metadata-sitios'))"
      ],
      "metadata": {
        "colab": {
          "base_uri": "https://localhost:8080/"
        },
        "id": "1XLpEugcZ3Ou",
        "outputId": "f3c0dbd6-d9f2-46be-aef2-252680cb187f"
      },
      "execution_count": null,
      "outputs": [
        {
          "output_type": "stream",
          "name": "stdout",
          "text": [
            "['1.json', '2.json', '3.json', '4.json', '5.json', '6.json', '7.json', '8.json', '9.json', '10.json', '11.json']\n"
          ]
        }
      ]
    },
    {
      "cell_type": "code",
      "execution_count": null,
      "metadata": {
        "colab": {
          "base_uri": "https://localhost:8080/"
        },
        "id": "GEoS0u8jyjeS",
        "outputId": "2d35f363-de78-4f59-d206-52a3a454f25a"
      },
      "outputs": [
        {
          "output_type": "stream",
          "name": "stdout",
          "text": [
            "Drive already mounted at /content/drive; to attempt to forcibly remount, call drive.mount(\"/content/drive\", force_remount=True).\n"
          ]
        }
      ],
      "source": [
        "# Montar Google Drive al notebook\n",
        "drive.mount('/content/drive')"
      ]
    },
    {
      "cell_type": "markdown",
      "source": [
        "Explora el primer archivo de metadata-sitios: primero enlista los archivos de la carpeta metadata-sitios y luego imprimer las primeras filas del archivo 1.json"
      ],
      "metadata": {
        "id": "MqUYTz6y7Twl"
      }
    },
    {
      "cell_type": "code",
      "source": [
        "# Ruta a la carpeta específica: hice un shortcut de la carpeta compartida (Compartidos conmigo/Google Maps) y lo puse en mi carpeta en My Drive\n",
        "\n",
        "# Cada quien tiene que hacer su shortcut y cambiar este path\n",
        "path_metadata = '/content/drive/MyDrive/HENRY/PROYECTO_FINAL/ORIGINALES/Google Maps/metadata-sitios'\n",
        "\n",
        "# Listar archivos en la carpeta\n",
        "files = os.listdir(path_metadata)\n",
        "for file in files:\n",
        "    print(file)\n"
      ],
      "metadata": {
        "colab": {
          "base_uri": "https://localhost:8080/"
        },
        "id": "iJgYHh6K29Dx",
        "outputId": "51486ab7-e569-43ac-f744-93f496c8664b"
      },
      "execution_count": null,
      "outputs": [
        {
          "output_type": "stream",
          "name": "stdout",
          "text": [
            "1.json\n",
            "2.json\n",
            "3.json\n",
            "4.json\n",
            "5.json\n",
            "6.json\n",
            "7.json\n",
            "8.json\n",
            "9.json\n",
            "10.json\n",
            "11.json\n"
          ]
        }
      ]
    },
    {
      "cell_type": "code",
      "source": [
        "# Ruta al archivo (cambia 'review.json' por el nombre de tu archivo)\n",
        "file_path = os.path.join(path_metadata, '1.json')\n",
        "\n",
        "# Leer una porción del archivo\n",
        "reviews = []\n",
        "with open(file_path, 'r') as file:\n",
        "    for i in range(1000):  # Leer las primeras 1000 líneas\n",
        "        line = file.readline()\n",
        "        reviews.append(json.loads(line))\n",
        "\n",
        "# Convertir a DataFrame\n",
        "df_metadata = pd.DataFrame(reviews)\n",
        "\n",
        "# Mostrar las primeras filas\n",
        "print(df_metadata.head())\n"
      ],
      "metadata": {
        "colab": {
          "base_uri": "https://localhost:8080/"
        },
        "id": "HBeC0gik4Sik",
        "outputId": "1c0b9918-3468-4953-d64f-24bf284976f5"
      },
      "execution_count": null,
      "outputs": [
        {
          "output_type": "stream",
          "name": "stdout",
          "text": [
            "               name                                            address  \\\n",
            "0   Porter Pharmacy  Porter Pharmacy, 129 N Second St, Cochran, GA ...   \n",
            "1      City Textile  City Textile, 3001 E Pico Blvd, Los Angeles, C...   \n",
            "2      San Soo Dang  San Soo Dang, 761 S Vermont Ave, Los Angeles, ...   \n",
            "3      Nova Fabrics  Nova Fabrics, 2200 E 11th St, Los Angeles, CA ...   \n",
            "4  Nobel Textile Co  Nobel Textile Co, 719 E 9th St, Los Angeles, C...   \n",
            "\n",
            "                                 gmap_id description   latitude   longitude  \\\n",
            "0  0x88f16e41928ff687:0x883dad4fd048e8f8        None  32.388300  -83.357100   \n",
            "1  0x80c2c98c0e3c16fd:0x29ec8a728764fdf9        None  34.018891 -118.215290   \n",
            "2  0x80c2c778e3b73d33:0xbdc58662a4a97d49        None  34.058092 -118.292130   \n",
            "3   0x80c2c89923b27a41:0x32041559418d447        None  34.023669 -118.232930   \n",
            "4  0x80c2c632f933b073:0xc31785961fe826a6        None  34.036694 -118.249421   \n",
            "\n",
            "              category  avg_rating  num_of_reviews price  \\\n",
            "0           [Pharmacy]         4.9              16  None   \n",
            "1   [Textile exporter]         4.5               6  None   \n",
            "2  [Korean restaurant]         4.4              18  None   \n",
            "3       [Fabric store]         3.3               6  None   \n",
            "4       [Fabric store]         4.3               7  None   \n",
            "\n",
            "                                               hours  \\\n",
            "0  [[Friday, 8AM–6PM], [Saturday, 8AM–12PM], [Sun...   \n",
            "1                                               None   \n",
            "2  [[Thursday, 6:30AM–6PM], [Friday, 6:30AM–6PM],...   \n",
            "3  [[Thursday, 9AM–5PM], [Friday, 9AM–5PM], [Satu...   \n",
            "4  [[Thursday, 9AM–5PM], [Friday, 9AM–5PM], [Satu...   \n",
            "\n",
            "                                                MISC              state  \\\n",
            "0  {'Service options': ['In-store shopping', 'Sam...  Open ⋅ Closes 6PM   \n",
            "1                                               None           Open now   \n",
            "2  {'Service options': ['Takeout', 'Dine-in', 'De...  Open ⋅ Closes 6PM   \n",
            "3  {'Service options': ['In-store shopping'], 'Pa...  Open ⋅ Closes 5PM   \n",
            "4           {'Service options': ['In-store pickup']}  Open ⋅ Closes 5PM   \n",
            "\n",
            "                                    relative_results  \\\n",
            "0  [0x88f16e41929435cf:0x5b2532a2885e9ef6, 0x88f1...   \n",
            "1  [0x80c2c624136ea88b:0xb0315367ed448771, 0x80c2...   \n",
            "2  [0x80c2c78249aba68f:0x35bf16ce61be751d, 0x80c2...   \n",
            "3  [0x80c2c8811477253f:0x23a8a492df1918f7, 0x80c2...   \n",
            "4  [0x80c2c62c496083d1:0xdefa11317fe870a1, 0x80c2...   \n",
            "\n",
            "                                                 url  \n",
            "0  https://www.google.com/maps/place//data=!4m2!3...  \n",
            "1  https://www.google.com/maps/place//data=!4m2!3...  \n",
            "2  https://www.google.com/maps/place//data=!4m2!3...  \n",
            "3  https://www.google.com/maps/place//data=!4m2!3...  \n",
            "4  https://www.google.com/maps/place//data=!4m2!3...  \n"
          ]
        }
      ]
    },
    {
      "cell_type": "markdown",
      "source": [
        "Explora el primer archivo de metadata-sitios: primero enlista los archivos de la carpeta reviews-estados/review-California y luego imprime las primeras filas del archivo 1.json"
      ],
      "metadata": {
        "id": "K4ypCQLy7nKV"
      }
    },
    {
      "cell_type": "code",
      "source": [
        "# Ruta a la carpeta específica: hice un shortcut de la carpeta compartida (Compartidos conmigo/Google Maps) y lo puse en mi carpeta en My Drive\n",
        "path_review_Calif = '/content/drive/My Drive/HENRY/PROYECTO_FINAL/ORIGINALES/Google Maps/reviews-estados/review-California'\n",
        "\n",
        "# Listar archivos en la carpeta\n",
        "files = os.listdir(path_review_Calif)\n",
        "for file in files:\n",
        "    print(file)"
      ],
      "metadata": {
        "colab": {
          "base_uri": "https://localhost:8080/"
        },
        "id": "HIawOlTe59qN",
        "outputId": "d2132f13-f6e7-4a06-faaa-bda33c36c915"
      },
      "execution_count": null,
      "outputs": [
        {
          "output_type": "stream",
          "name": "stdout",
          "text": [
            "1.json\n",
            "2.json\n",
            "3.json\n",
            "4.json\n",
            "5.json\n",
            "6.json\n",
            "7.json\n",
            "8.json\n",
            "9.json\n",
            "10.json\n",
            "11.json\n",
            "12.json\n",
            "13.json\n",
            "14.json\n",
            "15.json\n",
            "16.json\n",
            "17.json\n",
            "18.json\n"
          ]
        }
      ]
    },
    {
      "cell_type": "code",
      "source": [
        "# Ruta al archivo (cambia 'review.json' por el nombre de tu archivo)\n",
        "file_path = os.path.join(path_review_Calif, '1.json')\n",
        "\n",
        "# Leer una porción del archivo\n",
        "reviews = []\n",
        "with open(file_path, 'r') as file:\n",
        "    for i in range(1000):  # Leer las primeras 1000 líneas\n",
        "        line = file.readline()\n",
        "        reviews.append(json.loads(line))\n",
        "\n",
        "# Convertir a DataFrame\n",
        "df_reviews_ca = pd.DataFrame(reviews)\n",
        "\n",
        "# Mostrar las primeras filas\n",
        "print(df_reviews_ca.head())"
      ],
      "metadata": {
        "colab": {
          "base_uri": "https://localhost:8080/"
        },
        "id": "F1A2QS326-bD",
        "outputId": "d935825d-a204-4539-9008-6a7e2a28581d"
      },
      "execution_count": null,
      "outputs": [
        {
          "output_type": "stream",
          "name": "stdout",
          "text": [
            "                 user_id           name           time  rating  \\\n",
            "0  108991152262655788985        Song Ro  1609909927056       5   \n",
            "1  111290322219796215751    Rafa Robles  1612849648663       5   \n",
            "2  112640357449611959087      David Han  1583643882296       4   \n",
            "3  117440349723823658676    Anthony Kim  1551938216355       5   \n",
            "4  100580770836123539210  Mario Marzouk  1494910901933       5   \n",
            "\n",
            "                                               text  pics  resp  \\\n",
            "0                      Love there korean rice cake.  None  None   \n",
            "1                                    Good very good  None  None   \n",
            "2  They make Korean traditional food very properly.  None  None   \n",
            "3                    Short ribs are very delicious.  None  None   \n",
            "4      Great food and prices the portions are large  None  None   \n",
            "\n",
            "                                 gmap_id  \n",
            "0  0x80c2c778e3b73d33:0xbdc58662a4a97d49  \n",
            "1  0x80c2c778e3b73d33:0xbdc58662a4a97d49  \n",
            "2  0x80c2c778e3b73d33:0xbdc58662a4a97d49  \n",
            "3  0x80c2c778e3b73d33:0xbdc58662a4a97d49  \n",
            "4  0x80c2c778e3b73d33:0xbdc58662a4a97d49  \n"
          ]
        }
      ]
    },
    {
      "cell_type": "markdown",
      "source": [
        "Explora la carpeta de Yelp:"
      ],
      "metadata": {
        "id": "O7BQ52Ydh5gD"
      }
    },
    {
      "cell_type": "code",
      "source": [
        "# Cada quien tiene que hacer su shortcut y cambiar este path\n",
        "path_yelp = '/content/drive/MyDrive/HENRY/PROYECTO_FINAL/ORIGINALES/Yelp'\n",
        "\n",
        "# Listar archivos en la carpeta\n",
        "files = os.listdir(path_yelp)\n",
        "for file in files:\n",
        "    print(file)"
      ],
      "metadata": {
        "colab": {
          "base_uri": "https://localhost:8080/"
        },
        "id": "knOVMclDiAQ2",
        "outputId": "76315139-bf58-444e-e8a4-0265d356c5a6"
      },
      "execution_count": null,
      "outputs": [
        {
          "output_type": "stream",
          "name": "stdout",
          "text": [
            "checkin.json\n",
            "tip.json\n",
            "review.json\n",
            "user.parquet\n",
            "business.pkl\n"
          ]
        }
      ]
    },
    {
      "cell_type": "code",
      "source": [
        "# Ruta al archivo (cambia 'business.pkl' por el nombre de tu archivo)\n",
        "file_path = os.path.join(path_yelp, 'business.pkl')\n",
        "\n",
        "# Cargar datos usando pandas\n",
        "df_business = pd.read_pickle(file_path)\n",
        "\n",
        "# Mostrar las primeras filas\n",
        "print(df_business.head())"
      ],
      "metadata": {
        "colab": {
          "base_uri": "https://localhost:8080/"
        },
        "id": "rXCFX3Pigv9Q",
        "outputId": "35b1921b-0eca-4ce3-eddd-c0bfbec403cc"
      },
      "execution_count": null,
      "outputs": [
        {
          "output_type": "stream",
          "name": "stdout",
          "text": [
            "              business_id                      name  \\\n",
            "0  Pns2l4eNsfO8kk83dixA6A  Abby Rappoport, LAC, CMQ   \n",
            "1  mpf3x-BjTdTEA3yCZrAYPw             The UPS Store   \n",
            "2  tUFrWirKiKi_TAnsVWINQQ                    Target   \n",
            "3  MTSW4McQd7CbVtyjqoe9mw        St Honore Pastries   \n",
            "4  mWMc6_wTdE0EUBKIGXDVfA  Perkiomen Valley Brewery   \n",
            "\n",
            "                           address           city state postal_code  \\\n",
            "0           1616 Chapala St, Ste 2  Santa Barbara   NaN       93101   \n",
            "1  87 Grasso Plaza Shopping Center         Affton   NaN       63123   \n",
            "2             5255 E Broadway Blvd         Tucson   NaN       85711   \n",
            "3                      935 Race St   Philadelphia    CA       19107   \n",
            "4                    101 Walnut St     Green Lane    MO       18054   \n",
            "\n",
            "    latitude   longitude stars review_count  ... state postal_code latitude  \\\n",
            "0  34.426679 -119.711197   5.0            7  ...   NaN         NaN      NaN   \n",
            "1  38.551126  -90.335695   3.0           15  ...   NaN         NaN      NaN   \n",
            "2  32.223236 -110.880452   3.5           22  ...   NaN         NaN      NaN   \n",
            "3  39.955505  -75.155564   4.0           80  ...   NaN         NaN      NaN   \n",
            "4  40.338183  -75.471659   4.5           13  ...   NaN         NaN      NaN   \n",
            "\n",
            "  longitude stars review_count is_open attributes categories hours  \n",
            "0       NaN   NaN          NaN     NaN        NaN        NaN   NaN  \n",
            "1       NaN   NaN          NaN     NaN        NaN        NaN   NaN  \n",
            "2       NaN   NaN          NaN     NaN        NaN        NaN   NaN  \n",
            "3       NaN   NaN          NaN     NaN        NaN        NaN   NaN  \n",
            "4       NaN   NaN          NaN     NaN        NaN        NaN   NaN  \n",
            "\n",
            "[5 rows x 28 columns]\n"
          ]
        }
      ]
    },
    {
      "cell_type": "code",
      "source": [
        "# Ruta al archivo (cambia 'review.json' por el nombre de tu archivo)\n",
        "file_path = os.path.join(path_yelp, 'checkin.json')\n",
        "\n",
        "# Leer una porción del archivo\n",
        "reviews = []\n",
        "with open(file_path, 'r') as file:\n",
        "    for i in range(1000):  # Leer las primeras 1000 líneas\n",
        "        line = file.readline()\n",
        "        reviews.append(json.loads(line))\n",
        "\n",
        "# Convertir a DataFrame\n",
        "df_checkin = pd.DataFrame(reviews)\n",
        "\n",
        "# Mostrar las primeras filas\n",
        "print(df_checkin.head())"
      ],
      "metadata": {
        "colab": {
          "base_uri": "https://localhost:8080/"
        },
        "id": "mAJShYaziJBn",
        "outputId": "f4847440-abdd-47e1-93e5-a8470d4eb021"
      },
      "execution_count": null,
      "outputs": [
        {
          "output_type": "stream",
          "name": "stdout",
          "text": [
            "              business_id                                               date\n",
            "0  ---kPU91CF4Lq2-WlRu9Lw  2020-03-13 21:10:56, 2020-06-02 22:18:06, 2020...\n",
            "1  --0iUa4sNDFiZFrAdIWhZQ  2010-09-13 21:43:09, 2011-05-04 23:08:15, 2011...\n",
            "2  --30_8IhuyMHbSOcNWd6DQ           2013-06-14 23:29:17, 2014-08-13 23:20:22\n",
            "3  --7PUidqRWpRSpXebiyxTg  2011-02-15 17:12:00, 2011-07-28 02:46:10, 2012...\n",
            "4  --7jw19RH9JKXgFohspgQw  2014-04-21 20:42:11, 2014-04-28 21:04:46, 2014...\n"
          ]
        }
      ]
    },
    {
      "cell_type": "code",
      "source": [
        "# Ruta al archivo (cambia 'review.json' por el nombre de tu archivo)\n",
        "file_path = os.path.join(path_yelp, 'review.json')\n",
        "\n",
        "# Leer una porción del archivo\n",
        "reviews = []\n",
        "with open(file_path, 'r') as file:\n",
        "    for i in range(1000):  # Leer las primeras 1000 líneas\n",
        "        line = file.readline()\n",
        "        reviews.append(json.loads(line))\n",
        "\n",
        "# Convertir a DataFrame\n",
        "df_reviews = pd.DataFrame(reviews)\n",
        "\n",
        "# Mostrar las primeras filas\n",
        "print(df_reviews.head())"
      ],
      "metadata": {
        "colab": {
          "base_uri": "https://localhost:8080/"
        },
        "id": "e2-vGxeoiXHF",
        "outputId": "9defc8c3-3bb2-4e7f-d7eb-323bee107ad6"
      },
      "execution_count": null,
      "outputs": [
        {
          "output_type": "stream",
          "name": "stdout",
          "text": [
            "                review_id                 user_id             business_id  \\\n",
            "0  KU_O5udG6zpxOg-VcAEodg  mh_-eMZ6K5RLWhZyISBhwA  XQfwVwDr-v0ZS3_CbbE5Xw   \n",
            "1  BiTunyQ73aT9WBnpR9DZGw  OyoGAe7OKpv6SyGZT5g77Q  7ATYjTIgM3jUlt4UM3IypQ   \n",
            "2  saUsX_uimxRlCVr67Z4Jig  8g_iMtfSiwikVnbP2etR0A  YjUWPpI6HXG530lwP-fb2A   \n",
            "3  AqPFMleE6RsU23_auESxiA  _7bHUi9Uuf5__HHc_Q8guQ  kxX2SOes4o-D3ZQBkiMRfA   \n",
            "4  Sx8TMOWLNuJBWer-0pcmoA  bcjbaE6dDog4jkNY91ncLQ  e4Vwtrqf-wpJfwesgvdgxQ   \n",
            "\n",
            "   stars  useful  funny  cool  \\\n",
            "0    3.0       0      0     0   \n",
            "1    5.0       1      0     1   \n",
            "2    3.0       0      0     0   \n",
            "3    5.0       1      0     1   \n",
            "4    4.0       1      0     1   \n",
            "\n",
            "                                                text                 date  \n",
            "0  If you decide to eat here, just be aware it is...  2018-07-07 22:09:11  \n",
            "1  I've taken a lot of spin classes over the year...  2012-01-03 15:28:18  \n",
            "2  Family diner. Had the buffet. Eclectic assortm...  2014-02-05 20:30:30  \n",
            "3  Wow!  Yummy, different,  delicious.   Our favo...  2015-01-04 00:01:03  \n",
            "4  Cute interior and owner (?) gave us tour of up...  2017-01-14 20:54:15  \n"
          ]
        }
      ]
    },
    {
      "cell_type": "code",
      "source": [
        "# Ruta al archivo (cambia 'review.json' por el nombre de tu archivo)\n",
        "file_path = os.path.join(path_yelp, 'tip.json')\n",
        "\n",
        "# Leer una porción del archivo\n",
        "reviews = []\n",
        "with open(file_path, 'r') as file:\n",
        "    for i in range(1000):  # Leer las primeras 1000 líneas\n",
        "        line = file.readline()\n",
        "        reviews.append(json.loads(line))\n",
        "\n",
        "# Convertir a DataFrame\n",
        "df_tip = pd.DataFrame(reviews)\n",
        "\n",
        "# Mostrar las primeras filas\n",
        "print(df_tip.head())"
      ],
      "metadata": {
        "colab": {
          "base_uri": "https://localhost:8080/"
        },
        "id": "AqDbcmBNifmh",
        "outputId": "1c3f791c-d594-4488-f857-6f6230eaf7f4"
      },
      "execution_count": null,
      "outputs": [
        {
          "output_type": "stream",
          "name": "stdout",
          "text": [
            "                  user_id             business_id  \\\n",
            "0  AGNUgVwnZUey3gcPCJ76iw  3uLgwr0qeCNMjKenHJwPGQ   \n",
            "1  NBN4MgHP9D3cw--SnauTkA  QoezRbYQncpRqyrLH6Iqjg   \n",
            "2  -copOvldyKh1qr-vzkDEvw  MYoRNLb5chwjQe3c_k37Gg   \n",
            "3  FjMQVZjSqY8syIO-53KFKw  hV-bABTK-glh5wj31ps_Jw   \n",
            "4  ld0AperBXk1h6UbqmM80zw  _uN0OudeJ3Zl_tf6nxg5ww   \n",
            "\n",
            "                                                text                 date  \\\n",
            "0                     Avengers time with the ladies.  2012-05-18 02:17:21   \n",
            "1  They have lots of good deserts and tasty cuban...  2013-02-05 18:35:10   \n",
            "2             It's open even when you think it isn't  2013-08-18 00:56:08   \n",
            "3                          Very decent fried chicken  2017-06-27 23:05:38   \n",
            "4             Appetizers.. platter special for lunch  2012-10-06 19:43:09   \n",
            "\n",
            "   compliment_count  \n",
            "0                 0  \n",
            "1                 0  \n",
            "2                 0  \n",
            "3                 0  \n",
            "4                 0  \n"
          ]
        }
      ]
    },
    {
      "cell_type": "code",
      "source": [
        "# Estadísticas descriptivas del archivo metadata_sitios.json\n",
        "print(df_metadata.describe())\n",
        "\n",
        "# Estadísticas descriptivas del archivo review.json\n",
        "print(df_reviews_ca.describe())\n",
        "\n",
        "# Estadísticas descriptivas del archivo business.pkl\n",
        "print(df_business.describe())\n",
        "\n",
        "# Estadísticas descriptivas del archivo review.json\n",
        "print(df_reviews.describe())\n",
        "\n",
        "# Estadísticas descriptivas del archivo review.json\n",
        "print(df_checkin.describe())\n",
        "\n",
        "# Estadísticas descriptivas del archivo review.json\n",
        "print(df_tip.describe())"
      ],
      "metadata": {
        "colab": {
          "base_uri": "https://localhost:8080/"
        },
        "id": "I1C-QUW8n7TS",
        "outputId": "95284c0c-99ee-481b-c5c2-9d46f00594da"
      },
      "execution_count": null,
      "outputs": [
        {
          "output_type": "stream",
          "name": "stdout",
          "text": [
            "          latitude    longitude   avg_rating  num_of_reviews\n",
            "count  1000.000000  1000.000000  1000.000000     1000.000000\n",
            "mean     37.293405   -92.697172     4.303300       19.423000\n",
            "std       5.488463    16.026520     0.808797       37.903255\n",
            "min      20.853014  -157.920714     1.000000        1.000000\n",
            "25%      33.635655   -99.354853     4.000000        4.000000\n",
            "50%      37.823548   -87.877456     4.500000        8.000000\n",
            "75%      41.463073   -80.690342     5.000000       18.000000\n",
            "max      61.100644   -70.045987     5.000000      468.000000\n",
            "               time       rating\n",
            "count  1.000000e+03  1000.000000\n",
            "mean   1.553027e+12     4.320000\n",
            "std    5.331127e+10     1.233337\n",
            "min    1.319500e+12     1.000000\n",
            "25%    1.518850e+12     4.000000\n",
            "50%    1.554993e+12     5.000000\n",
            "75%    1.598478e+12     5.000000\n",
            "max    1.631078e+12     5.000000\n",
            "                   business_id       name address          city   state  \\\n",
            "count                   150346     150346  150346        150346  150343   \n",
            "unique                  150346     114117  122844          1416      27   \n",
            "top     Pns2l4eNsfO8kk83dixA6A  Starbucks          Philadelphia      PA   \n",
            "freq                         1        724    5127         14569   34039   \n",
            "\n",
            "       postal_code       latitude      longitude     stars review_count  ...  \\\n",
            "count       150346  150346.000000  150346.000000  150346.0       150346  ...   \n",
            "unique        3362  135593.000000  131918.000000       9.0         1158  ...   \n",
            "top          93101      34.420334    -119.710749       4.0            5  ...   \n",
            "freq          1866     146.000000     146.000000   31125.0        14921  ...   \n",
            "\n",
            "        state postal_code  latitude  longitude stars review_count is_open  \\\n",
            "count       5           5   5.00000   5.000000   5.0            5       5   \n",
            "unique      5           5   5.00000   5.000000   3.0            5       2   \n",
            "top        LA       33615  27.99637 -82.580954   3.0           56       1   \n",
            "freq        1           1   1.00000   1.000000   3.0            1       4   \n",
            "\n",
            "                                               attributes          categories  \\\n",
            "count                                                   5                   5   \n",
            "unique                                                  5                   2   \n",
            "top     {'BikeParking': 'True', 'BusinessAcceptsCredit...  Coffee & Tea, Food   \n",
            "freq                                                    1                   4   \n",
            "\n",
            "                                                    hours  \n",
            "count                                                   5  \n",
            "unique                                                  5  \n",
            "top     {'Monday': '5:30-21:0', 'Tuesday': '5:30-21:0'...  \n",
            "freq                                                    1  \n",
            "\n",
            "[4 rows x 28 columns]\n",
            "             stars       useful       funny        cool\n",
            "count  1000.000000  1000.000000  1000.00000  1000.00000\n",
            "mean      3.850000     0.909000     0.27200     0.34400\n",
            "std       1.367249     1.695167     1.04072     1.02113\n",
            "min       1.000000     0.000000     0.00000     0.00000\n",
            "25%       3.000000     0.000000     0.00000     0.00000\n",
            "50%       4.000000     0.000000     0.00000     0.00000\n",
            "75%       5.000000     1.000000     0.00000     0.00000\n",
            "max       5.000000    15.000000    19.00000    12.00000\n",
            "                   business_id  \\\n",
            "count                     1000   \n",
            "unique                    1000   \n",
            "top     ---kPU91CF4Lq2-WlRu9Lw   \n",
            "freq                         1   \n",
            "\n",
            "                                                     date  \n",
            "count                                                1000  \n",
            "unique                                               1000  \n",
            "top     2020-03-13 21:10:56, 2020-06-02 22:18:06, 2020...  \n",
            "freq                                                    1  \n",
            "       compliment_count\n",
            "count        1000.00000\n",
            "mean            0.01200\n",
            "std             0.10894\n",
            "min             0.00000\n",
            "25%             0.00000\n",
            "50%             0.00000\n",
            "75%             0.00000\n",
            "max             1.00000\n"
          ]
        }
      ]
    }
  ]
}